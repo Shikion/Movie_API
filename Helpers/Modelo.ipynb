{
 "cells": [
  {
   "cell_type": "code",
   "execution_count": 67,
   "metadata": {},
   "outputs": [],
   "source": [
    "import pandas as pd\n",
    "import numpy as np\n",
    "import joblib\n",
    "from sklearn.feature_extraction.text import TfidfVectorizer\n",
    "from sklearn.metrics.pairwise import pairwise_distances\n",
    "from sklearn.decomposition import randomized_svd\n",
    "import matplotlib.pyplot as plt"
   ]
  },
  {
   "cell_type": "code",
   "execution_count": 68,
   "metadata": {},
   "outputs": [],
   "source": [
    "data = pd.read_csv('datos_limpios.csv')"
   ]
  },
  {
   "cell_type": "code",
   "execution_count": 69,
   "metadata": {},
   "outputs": [],
   "source": [
    "#Para este modelo machine learnin vectorizamos la descripcion de las peliculas\n",
    "#Notece que como \"stop_words\" pasamos las plabras comunes del ingles y el español que no aportan mucha informacion\n",
    "vectorizer = TfidfVectorizer(stop_words=['english', 'spanish'], min_df=15, max_df=235)\n",
    "X = vectorizer.fit_transform(data['description'].values.astype('U'))"
   ]
  },
  {
   "cell_type": "code",
   "execution_count": null,
   "metadata": {},
   "outputs": [
    {
     "name": "stderr",
     "output_type": "stream",
     "text": [
      "c:\\Users\\Abel\\anaconda3\\lib\\site-packages\\sklearn\\utils\\extmath.py:368: FutureWarning: If 'random_state' is not supplied, the current default is to use 0 as a fixed seed. This will change to  None in version 1.2 leading to non-deterministic results that better reflect nature of the randomized_svd solver. If you want to silence this warning, set 'random_state' to an integer seed or to None explicitly depending if you want your code to be deterministic or not.\n",
      "  warnings.warn(\n"
     ]
    }
   ],
   "source": [
    "#Dividimos la dimencionalidad con el \"randomized_svd\" para que nuestro modelo no consuma demaciado espacio\n",
    "U, Sigma, VT = randomized_svd(X, n_components=145)\n",
    "X = U.dot(np.diag(Sigma))"
   ]
  },
  {
   "cell_type": "code",
   "execution_count": 71,
   "metadata": {},
   "outputs": [],
   "source": [
    "# Función para obtener las 5 películas más similares\n",
    "def get_recommendation(title: str):\n",
    "\n",
    "    movie_idx = data[data['title'] == title].index[0]\n",
    "    similarities = pairwise_distances(X, X[movie_idx].reshape(1, -1))\n",
    "    similar_movie_indices = similarities.argsort(axis=0)[1:6].flatten()\n",
    "    similar_movies = data.iloc[similar_movie_indices]['title'].tolist()\n",
    "\n",
    "    indices = similarities.argsort()\n",
    "\n",
    "    similarities = similarities.ravel()\n",
    "\n",
    "    # Ordenar las distancias en orden ascendente\n",
    "    indices = similarities.argsort()\n",
    "\n",
    "    # Obtener los títulos de las 5 películas más similares\n",
    "    titles = [data['title'][i] for i in indices[1:6]]\n",
    "\n",
    "    # Crear un gráfico de barras horizontales\n",
    "    fig, ax = plt.subplots()\n",
    "    ax.barh(titles, similarities[indices][1:6])\n",
    "\n",
    "    # Configurar las etiquetas de los ejes\n",
    "    ax.set_xlabel('Distancia de similaridad')\n",
    "    ax.set_ylabel('Título de la película')\n",
    "\n",
    "    # Mostrar el gráfico\n",
    "    plt.show()\n",
    "\n",
    "    return similar_movies"
   ]
  },
  {
   "cell_type": "code",
   "execution_count": 75,
   "metadata": {},
   "outputs": [
    {
     "data": {
      "image/png": "[encoded data removed]",
      "text/plain": [
       "<Figure size 432x288 with 1 Axes>"
      ]
     },
     "metadata": {
      "needs_background": "light"
     },
     "output_type": "display_data"
    },
    {
     "data": {
      "text/plain": [
       "['endeavour',\n",
       " 'an american rhapsody',\n",
       " 'surviving the storm',\n",
       " 'mr. romantic',\n",
       " 'instructions not included']"
      ]
     },
     "execution_count": 75,
     "metadata": {},
     "output_type": "execute_result"
    }
   ],
   "source": [
    "get_recommendation('black widow')"
   ]
  },
  {
   "cell_type": "code",
   "execution_count": 73,
   "metadata": {},
   "outputs": [
    {
     "data": {
      "text/plain": [
       "['model.pkl']"
      ]
     },
     "execution_count": 73,
     "metadata": {},
     "output_type": "execute_result"
    }
   ],
   "source": [
    "joblib.dump(X, 'model.pkl')"
   ]
  }
 ],
 "metadata": {
  "kernelspec": {
   "display_name": "Python 3",
   "language": "python",
   "name": "python3"
  },
  "language_info": {
   "codemirror_mode": {
    "name": "ipython",
    "version": 3
   },
   "file_extension": ".py",
   "mimetype": "text/x-python",
   "name": "python",
   "nbconvert_exporter": "python",
   "pygments_lexer": "ipython3",
   "version": "3.10.6"
  },
  "orig_nbformat": 4
 },
 "nbformat": 4,
 "nbformat_minor": 2
}
